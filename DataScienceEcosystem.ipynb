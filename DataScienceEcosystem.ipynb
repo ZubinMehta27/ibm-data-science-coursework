{
 "cells": [
  {
   "cell_type": "markdown",
   "id": "c8d0322f-6f2b-4494-895e-cc68d029ccf1",
   "metadata": {},
   "source": [
    "# Data Science Tools and Ecosystem"
   ]
  },
  {
   "cell_type": "markdown",
   "id": "fcd02eb6-46f8-4a89-9912-873724fc4612",
   "metadata": {},
   "source": [
    "In this notebook, Data Science Tools and Ecosystem are summarized."
   ]
  },
  {
   "cell_type": "markdown",
   "id": "2637acb5-1168-46a2-8a7b-0c830eb843a4",
   "metadata": {},
   "source": [
    "**Objectives:**\n",
    "\n",
    "* Popular languages that Data Scientists use.\n",
    "* Commonly used libraries used by Data Scientists\n",
    "* Data Science Tools\n",
    "* Arithmetic expressions in Python"
   ]
  },
  {
   "cell_type": "markdown",
   "id": "bdfe7ffe-1c55-48a8-b618-d6ee957c65db",
   "metadata": {},
   "source": [
    "Some of the popular languages that Data Scientists use are:\n",
    "---\n",
    "    \n",
    "1. Python\n",
    "2. R\n",
    "3. SQL\n",
    "4. Julia\n",
    "5. Scala\n",
    "6. Java\n",
    "7. Javascript\n",
    "8. C or C++"
   ]
  },
  {
   "cell_type": "markdown",
   "id": "8b93f102-d9e5-4113-ae5e-27fc17bebf25",
   "metadata": {},
   "source": [
    "Some of the commonly used libraries used by Data Scientists include:\n",
    "---\n",
    "\n",
    "1. Matplotlib\n",
    "2. Scikit-learn\n",
    "3. Seaborn\n",
    "4. Pandas\n",
    "5. NumPy\n",
    "6. SciPy\n",
    "7. Plotly\n",
    "8. TensorFlow\n",
    "9. Keras\n",
    "10. PyTorch\n",
    "11. Beautiful Soup\n",
    "12. Statsmodels\n",
    "13. XGBoost\n",
    "14. Dask\n",
    "15. NLTK\n",
    "16. Scrapy\n",
    "17. Altair\n",
    "18. Hyperopt-sklearn\n",
    "19. LightGBM\n",
    "20. SQLAlchemy\n",
    "21. CatBoost\n",
    "22. OpenCV\n",
    "23. Bokeh"
   ]
  },
  {
   "cell_type": "markdown",
   "id": "790a1112-aee1-4679-84d8-51e90babe32a",
   "metadata": {},
   "source": [
    "<table border="1">
  <thead>
    <tr>
      <th>Data Science Tools</th>
    </tr>
  </thead>
  <tbody>
    <tr><td>R Studio</td></tr>
    <tr><td>Apache Zeppelin</td></tr>
    <tr><td>Jupyter Labs</td></tr>
  </tbody>
</table>"
   ]
  },
  {
   "cell_type": "markdown",
   "id": "0377afa0-662b-41bd-9707-fc97550136ec",
   "metadata": {},
   "source": [
    "### Below are a few examples of evaluating arithmetic expressions in Python:"
   ]
  },
  {
   "cell_type": "code",
   "execution_count": 28,
   "id": "02bfa3e1-4db4-4c1b-adc7-acba5c8c5a4b",
   "metadata": {},
   "outputs": [
    {
     "data": {
      "text/plain": [
       "17"
      ]
     },
     "execution_count": 28,
     "metadata": {},
     "output_type": "execute_result"
    }
   ],
   "source": [
    "#This a simple arithmetic expression to mutiply then add integers\n",
    "\n",
    "(3*4)+5"
   ]
  },
  {
   "cell_type": "code",
   "execution_count": 30,
   "id": "916db35c-ab09-4b21-aa90-212d6e8d93a1",
   "metadata": {},
   "outputs": [
    {
     "data": {
      "text/plain": [
       "3.3333333333333335"
      ]
     },
     "execution_count": 30,
     "metadata": {},
     "output_type": "execute_result"
    }
   ],
   "source": [
    "#This will convert 200 minutes to hours by diving by 60\n",
    "\n",
    "200/60"
   ]
  },
  {
   "cell_type": "markdown",
   "id": "49be5363-33af-4aa2-b83f-7b82e6b5d86f",
   "metadata": {},
   "source": [
    "## Author\n",
    "Zubin Mehta"
   ]
  }
 ],
 "metadata": {
  "kernelspec": {
   "display_name": "Python 3 (ipykernel)",
   "language": "python",
   "name": "python3"
  },
  "language_info": {
   "codemirror_mode": {
    "name": "ipython",
    "version": 3
   },
   "file_extension": ".py",
   "mimetype": "text/x-python",
   "name": "python",
   "nbconvert_exporter": "python",
   "pygments_lexer": "ipython3",
   "version": "3.11.7"
  }
 },
 "nbformat": 4,
 "nbformat_minor": 5
}
